{
 "cells": [
  {
   "cell_type": "markdown",
   "metadata": {},
   "source": [
    "# Geocoding Tutorial"
   ]
  },
  {
   "cell_type": "markdown",
   "metadata": {},
   "source": [
    "### Import Packages"
   ]
  },
  {
   "cell_type": "code",
   "execution_count": 1,
   "metadata": {},
   "outputs": [],
   "source": [
    "import pandas as pd\n",
    "import geopandas as gpd\n",
    "import folium\n"
   ]
  },
  {
   "cell_type": "markdown",
   "metadata": {},
   "source": [
    "### One Address"
   ]
  },
  {
   "cell_type": "code",
   "execution_count": 2,
   "metadata": {},
   "outputs": [
    {
     "data": {
      "text/plain": [
       "(2.2945006358633115, 48.8582599)"
      ]
     },
     "execution_count": 2,
     "metadata": {},
     "output_type": "execute_result"
    }
   ],
   "source": [
    "# Perform geocoding\n",
    "gdf = gpd.tools.geocode(\"Champ de Mars, 5 Avenue Anatole France, 75007 Paris, France\")\n",
    "\n",
    "# Print the coordinates\n",
    "gdf.geometry.iloc[0].x, gdf.geometry.iloc[0].y\n"
   ]
  },
  {
   "cell_type": "markdown",
   "metadata": {},
   "source": [
    "### Multiple Addresses"
   ]
  },
  {
   "cell_type": "code",
   "execution_count": 3,
   "metadata": {},
   "outputs": [
    {
     "data": {
      "text/html": [
       "<div>\n",
       "<style scoped>\n",
       "    .dataframe tbody tr th:only-of-type {\n",
       "        vertical-align: middle;\n",
       "    }\n",
       "\n",
       "    .dataframe tbody tr th {\n",
       "        vertical-align: top;\n",
       "    }\n",
       "\n",
       "    .dataframe thead th {\n",
       "        text-align: right;\n",
       "    }\n",
       "</style>\n",
       "<table border=\"1\" class=\"dataframe\">\n",
       "  <thead>\n",
       "    <tr style=\"text-align: right;\">\n",
       "      <th></th>\n",
       "      <th>address</th>\n",
       "      <th>latitude</th>\n",
       "      <th>longitude</th>\n",
       "      <th>geometry</th>\n",
       "    </tr>\n",
       "  </thead>\n",
       "  <tbody>\n",
       "    <tr>\n",
       "      <th>0</th>\n",
       "      <td>Champ de Mars, 5 Avenue Anatole France, 75007 ...</td>\n",
       "      <td>48.858260</td>\n",
       "      <td>2.294501</td>\n",
       "      <td>POINT (2.29450 48.85826)</td>\n",
       "    </tr>\n",
       "    <tr>\n",
       "      <th>1</th>\n",
       "      <td>Rue de Rivoli, 75001 Paris, France</td>\n",
       "      <td>48.860809</td>\n",
       "      <td>2.341132</td>\n",
       "      <td>POINT (2.34113 48.86081)</td>\n",
       "    </tr>\n",
       "    <tr>\n",
       "      <th>2</th>\n",
       "      <td>6 Parvis Notre-Dame - Pl. Jean-Paul II, 75004 ...</td>\n",
       "      <td>48.852937</td>\n",
       "      <td>2.350050</td>\n",
       "      <td>POINT (2.35005 48.85294)</td>\n",
       "    </tr>\n",
       "  </tbody>\n",
       "</table>\n",
       "</div>"
      ],
      "text/plain": [
       "                                             address   latitude  longitude  \\\n",
       "0  Champ de Mars, 5 Avenue Anatole France, 75007 ...  48.858260   2.294501   \n",
       "1                 Rue de Rivoli, 75001 Paris, France  48.860809   2.341132   \n",
       "2  6 Parvis Notre-Dame - Pl. Jean-Paul II, 75004 ...  48.852937   2.350050   \n",
       "\n",
       "                   geometry  \n",
       "0  POINT (2.29450 48.85826)  \n",
       "1  POINT (2.34113 48.86081)  \n",
       "2  POINT (2.35005 48.85294)  "
      ]
     },
     "execution_count": 3,
     "metadata": {},
     "output_type": "execute_result"
    }
   ],
   "source": [
    "\n",
    "\n",
    "# Create a DataFrame of Addresses\n",
    "data = {\n",
    "    'address': [\n",
    "        \"Champ de Mars, 5 Avenue Anatole France, 75007 Paris, France\",\n",
    "        \"Rue de Rivoli, 75001 Paris, France\",\n",
    "        \"6 Parvis Notre-Dame - Pl. Jean-Paul II, 75004 Paris, France\"\n",
    "    ]\n",
    "}\n",
    "df = pd.DataFrame(data)\n",
    "\n",
    "# Perform Geocoding\n",
    "gdf = gpd.tools.geocode(df['address'])\n",
    "\n",
    "# Extract latitude and longitude from the geometry\n",
    "df['latitude'], df['longitude'], df['geometry']  = gdf.geometry.y, gdf.geometry.x, gdf.geometry\n",
    "\n",
    "\n",
    "# Print the resulting DataFrame\n",
    "df"
   ]
  },
  {
   "cell_type": "markdown",
   "metadata": {},
   "source": [
    "#### Map Coordinates"
   ]
  },
  {
   "cell_type": "code",
   "execution_count": 4,
   "metadata": {},
   "outputs": [
    {
     "data": {
      "text/html": [
       "<div style=\"width:100%;\"><div style=\"position:relative;width:100%;height:0;padding-bottom:60%;\"><span style=\"color:#565656\">Make this Notebook Trusted to load map: File -> Trust Notebook</span><iframe srcdoc=\"&lt;!DOCTYPE html&gt;\n",
       "&lt;html&gt;\n",
       "&lt;head&gt;\n",
       "    \n",
       "    &lt;meta http-equiv=&quot;content-type&quot; content=&quot;text/html; charset=UTF-8&quot; /&gt;\n",
       "    \n",
       "        &lt;script&gt;\n",
       "            L_NO_TOUCH = false;\n",
       "            L_DISABLE_3D = false;\n",
       "        &lt;/script&gt;\n",
       "    \n",
       "    &lt;style&gt;html, body {width: 100%;height: 100%;margin: 0;padding: 0;}&lt;/style&gt;\n",
       "    &lt;style&gt;#map {position:absolute;top:0;bottom:0;right:0;left:0;}&lt;/style&gt;\n",
       "    &lt;script src=&quot;https://cdn.jsdelivr.net/npm/leaflet@1.9.3/dist/leaflet.js&quot;&gt;&lt;/script&gt;\n",
       "    &lt;script src=&quot;https://code.jquery.com/jquery-3.7.1.min.js&quot;&gt;&lt;/script&gt;\n",
       "    &lt;script src=&quot;https://cdn.jsdelivr.net/npm/bootstrap@5.2.2/dist/js/bootstrap.bundle.min.js&quot;&gt;&lt;/script&gt;\n",
       "    &lt;script src=&quot;https://cdnjs.cloudflare.com/ajax/libs/Leaflet.awesome-markers/2.0.2/leaflet.awesome-markers.js&quot;&gt;&lt;/script&gt;\n",
       "    &lt;link rel=&quot;stylesheet&quot; href=&quot;https://cdn.jsdelivr.net/npm/leaflet@1.9.3/dist/leaflet.css&quot;/&gt;\n",
       "    &lt;link rel=&quot;stylesheet&quot; href=&quot;https://cdn.jsdelivr.net/npm/bootstrap@5.2.2/dist/css/bootstrap.min.css&quot;/&gt;\n",
       "    &lt;link rel=&quot;stylesheet&quot; href=&quot;https://netdna.bootstrapcdn.com/bootstrap/3.0.0/css/bootstrap.min.css&quot;/&gt;\n",
       "    &lt;link rel=&quot;stylesheet&quot; href=&quot;https://cdn.jsdelivr.net/npm/@fortawesome/fontawesome-free@6.2.0/css/all.min.css&quot;/&gt;\n",
       "    &lt;link rel=&quot;stylesheet&quot; href=&quot;https://cdnjs.cloudflare.com/ajax/libs/Leaflet.awesome-markers/2.0.2/leaflet.awesome-markers.css&quot;/&gt;\n",
       "    &lt;link rel=&quot;stylesheet&quot; href=&quot;https://cdn.jsdelivr.net/gh/python-visualization/folium/folium/templates/leaflet.awesome.rotate.min.css&quot;/&gt;\n",
       "    \n",
       "            &lt;meta name=&quot;viewport&quot; content=&quot;width=device-width,\n",
       "                initial-scale=1.0, maximum-scale=1.0, user-scalable=no&quot; /&gt;\n",
       "            &lt;style&gt;\n",
       "                #map_38f882d018d3d83cb539e4ae1594323e {\n",
       "                    position: relative;\n",
       "                    width: 100.0%;\n",
       "                    height: 100.0%;\n",
       "                    left: 0.0%;\n",
       "                    top: 0.0%;\n",
       "                }\n",
       "                .leaflet-container { font-size: 1rem; }\n",
       "            &lt;/style&gt;\n",
       "        \n",
       "&lt;/head&gt;\n",
       "&lt;body&gt;\n",
       "    \n",
       "    \n",
       "            &lt;div class=&quot;folium-map&quot; id=&quot;map_38f882d018d3d83cb539e4ae1594323e&quot; &gt;&lt;/div&gt;\n",
       "        \n",
       "&lt;/body&gt;\n",
       "&lt;script&gt;\n",
       "    \n",
       "    \n",
       "            var map_38f882d018d3d83cb539e4ae1594323e = L.map(\n",
       "                &quot;map_38f882d018d3d83cb539e4ae1594323e&quot;,\n",
       "                {\n",
       "                    center: [48.85733531666667, 2.328560786121105],\n",
       "                    crs: L.CRS.EPSG3857,\n",
       "                    zoom: 14,\n",
       "                    zoomControl: true,\n",
       "                    preferCanvas: false,\n",
       "                }\n",
       "            );\n",
       "\n",
       "            \n",
       "\n",
       "        \n",
       "    \n",
       "            var tile_layer_9af7e77b29ce0a74e718920400891571 = L.tileLayer(\n",
       "                &quot;https://tile.openstreetmap.org/{z}/{x}/{y}.png&quot;,\n",
       "                {&quot;attribution&quot;: &quot;\\u0026copy; \\u003ca href=\\&quot;https://www.openstreetmap.org/copyright\\&quot;\\u003eOpenStreetMap\\u003c/a\\u003e contributors&quot;, &quot;detectRetina&quot;: false, &quot;maxNativeZoom&quot;: 19, &quot;maxZoom&quot;: 19, &quot;minZoom&quot;: 0, &quot;noWrap&quot;: false, &quot;opacity&quot;: 1, &quot;subdomains&quot;: &quot;abc&quot;, &quot;tms&quot;: false}\n",
       "            );\n",
       "        \n",
       "    \n",
       "            tile_layer_9af7e77b29ce0a74e718920400891571.addTo(map_38f882d018d3d83cb539e4ae1594323e);\n",
       "        \n",
       "    \n",
       "            var marker_71c520d42b122c79c13d811409a184d2 = L.marker(\n",
       "                [48.8582599, 2.2945006358633115],\n",
       "                {}\n",
       "            ).addTo(map_38f882d018d3d83cb539e4ae1594323e);\n",
       "        \n",
       "    \n",
       "        var popup_b2e971b6ce9e95f502089924b444656e = L.popup({&quot;maxWidth&quot;: &quot;100%&quot;});\n",
       "\n",
       "        \n",
       "            \n",
       "                var html_ba6dc0c73fba37cd5e372c50ee50899d = $(`&lt;div id=&quot;html_ba6dc0c73fba37cd5e372c50ee50899d&quot; style=&quot;width: 100.0%; height: 100.0%;&quot;&gt;Champ de Mars, 5 Avenue Anatole France, 75007 Paris, France&lt;/div&gt;`)[0];\n",
       "                popup_b2e971b6ce9e95f502089924b444656e.setContent(html_ba6dc0c73fba37cd5e372c50ee50899d);\n",
       "            \n",
       "        \n",
       "\n",
       "        marker_71c520d42b122c79c13d811409a184d2.bindPopup(popup_b2e971b6ce9e95f502089924b444656e)\n",
       "        ;\n",
       "\n",
       "        \n",
       "    \n",
       "    \n",
       "            var marker_1bb14670ad4992bc9aa3e33cf38b3d54 = L.marker(\n",
       "                [48.860809, 2.3411316],\n",
       "                {}\n",
       "            ).addTo(map_38f882d018d3d83cb539e4ae1594323e);\n",
       "        \n",
       "    \n",
       "        var popup_a86b60bd8e20abc176e3423c7af3e3d5 = L.popup({&quot;maxWidth&quot;: &quot;100%&quot;});\n",
       "\n",
       "        \n",
       "            \n",
       "                var html_841efba3e079cf39f5b8d30c18c1f7ea = $(`&lt;div id=&quot;html_841efba3e079cf39f5b8d30c18c1f7ea&quot; style=&quot;width: 100.0%; height: 100.0%;&quot;&gt;Rue de Rivoli, 75001 Paris, France&lt;/div&gt;`)[0];\n",
       "                popup_a86b60bd8e20abc176e3423c7af3e3d5.setContent(html_841efba3e079cf39f5b8d30c18c1f7ea);\n",
       "            \n",
       "        \n",
       "\n",
       "        marker_1bb14670ad4992bc9aa3e33cf38b3d54.bindPopup(popup_a86b60bd8e20abc176e3423c7af3e3d5)\n",
       "        ;\n",
       "\n",
       "        \n",
       "    \n",
       "    \n",
       "            var marker_628273e7ffa98901d391aad12766cf68 = L.marker(\n",
       "                [48.85293705, 2.3500501225000026],\n",
       "                {}\n",
       "            ).addTo(map_38f882d018d3d83cb539e4ae1594323e);\n",
       "        \n",
       "    \n",
       "        var popup_f7fbfe4a9a7a2411c98593ea54a2cd7e = L.popup({&quot;maxWidth&quot;: &quot;100%&quot;});\n",
       "\n",
       "        \n",
       "            \n",
       "                var html_a43d54491467dae9a6b8777ba5610845 = $(`&lt;div id=&quot;html_a43d54491467dae9a6b8777ba5610845&quot; style=&quot;width: 100.0%; height: 100.0%;&quot;&gt;6 Parvis Notre-Dame - Pl. Jean-Paul II, 75004 Paris, France&lt;/div&gt;`)[0];\n",
       "                popup_f7fbfe4a9a7a2411c98593ea54a2cd7e.setContent(html_a43d54491467dae9a6b8777ba5610845);\n",
       "            \n",
       "        \n",
       "\n",
       "        marker_628273e7ffa98901d391aad12766cf68.bindPopup(popup_f7fbfe4a9a7a2411c98593ea54a2cd7e)\n",
       "        ;\n",
       "\n",
       "        \n",
       "    \n",
       "&lt;/script&gt;\n",
       "&lt;/html&gt;\" style=\"position:absolute;width:100%;height:100%;left:0;top:0;border:none !important;\" allowfullscreen webkitallowfullscreen mozallowfullscreen></iframe></div></div>"
      ],
      "text/plain": [
       "<folium.folium.Map at 0x168643410>"
      ]
     },
     "execution_count": 4,
     "metadata": {},
     "output_type": "execute_result"
    }
   ],
   "source": [
    "\n",
    "map_center = [df['latitude'].mean(), df['longitude'].mean()]\n",
    "\n",
    "# Initialize a folium map centered around Paris\n",
    "m = folium.Map(location=map_center, zoom_start=14)\n",
    "\n",
    "# Add markers to the map\n",
    "for idx, row in df.iterrows():\n",
    "    folium.Marker([row['latitude'], row['longitude']], popup=row['address']).add_to(m)\n",
    "\n",
    "# View the map\n",
    "m"
   ]
  },
  {
   "cell_type": "markdown",
   "metadata": {},
   "source": [
    "# Reverse Geocoding"
   ]
  },
  {
   "cell_type": "markdown",
   "metadata": {},
   "source": [
    "#### Remove original address"
   ]
  },
  {
   "cell_type": "code",
   "execution_count": 5,
   "metadata": {},
   "outputs": [
    {
     "data": {
      "text/html": [
       "<div>\n",
       "<style scoped>\n",
       "    .dataframe tbody tr th:only-of-type {\n",
       "        vertical-align: middle;\n",
       "    }\n",
       "\n",
       "    .dataframe tbody tr th {\n",
       "        vertical-align: top;\n",
       "    }\n",
       "\n",
       "    .dataframe thead th {\n",
       "        text-align: right;\n",
       "    }\n",
       "</style>\n",
       "<table border=\"1\" class=\"dataframe\">\n",
       "  <thead>\n",
       "    <tr style=\"text-align: right;\">\n",
       "      <th></th>\n",
       "      <th>latitude</th>\n",
       "      <th>longitude</th>\n",
       "      <th>geometry</th>\n",
       "      <th>address_original</th>\n",
       "    </tr>\n",
       "  </thead>\n",
       "  <tbody>\n",
       "    <tr>\n",
       "      <th>0</th>\n",
       "      <td>48.858260</td>\n",
       "      <td>2.294501</td>\n",
       "      <td>POINT (2.29450 48.85826)</td>\n",
       "      <td>Champ de Mars, 5 Avenue Anatole France, 75007 ...</td>\n",
       "    </tr>\n",
       "    <tr>\n",
       "      <th>1</th>\n",
       "      <td>48.860809</td>\n",
       "      <td>2.341132</td>\n",
       "      <td>POINT (2.34113 48.86081)</td>\n",
       "      <td>Rue de Rivoli, 75001 Paris, France</td>\n",
       "    </tr>\n",
       "    <tr>\n",
       "      <th>2</th>\n",
       "      <td>48.852937</td>\n",
       "      <td>2.350050</td>\n",
       "      <td>POINT (2.35005 48.85294)</td>\n",
       "      <td>6 Parvis Notre-Dame - Pl. Jean-Paul II, 75004 ...</td>\n",
       "    </tr>\n",
       "  </tbody>\n",
       "</table>\n",
       "</div>"
      ],
      "text/plain": [
       "    latitude  longitude                  geometry  \\\n",
       "0  48.858260   2.294501  POINT (2.29450 48.85826)   \n",
       "1  48.860809   2.341132  POINT (2.34113 48.86081)   \n",
       "2  48.852937   2.350050  POINT (2.35005 48.85294)   \n",
       "\n",
       "                                    address_original  \n",
       "0  Champ de Mars, 5 Avenue Anatole France, 75007 ...  \n",
       "1                 Rue de Rivoli, 75001 Paris, France  \n",
       "2  6 Parvis Notre-Dame - Pl. Jean-Paul II, 75004 ...  "
      ]
     },
     "execution_count": 5,
     "metadata": {},
     "output_type": "execute_result"
    }
   ],
   "source": [
    "df['address_original'] = df['address']\n",
    "df.drop(['address'], axis = 1, inplace=True)\n",
    "df"
   ]
  },
  {
   "cell_type": "markdown",
   "metadata": {},
   "source": [
    "#### Run reverse geocode"
   ]
  },
  {
   "cell_type": "code",
   "execution_count": 6,
   "metadata": {},
   "outputs": [
    {
     "data": {
      "text/html": [
       "<div>\n",
       "<style scoped>\n",
       "    .dataframe tbody tr th:only-of-type {\n",
       "        vertical-align: middle;\n",
       "    }\n",
       "\n",
       "    .dataframe tbody tr th {\n",
       "        vertical-align: top;\n",
       "    }\n",
       "\n",
       "    .dataframe thead th {\n",
       "        text-align: right;\n",
       "    }\n",
       "</style>\n",
       "<table border=\"1\" class=\"dataframe\">\n",
       "  <thead>\n",
       "    <tr style=\"text-align: right;\">\n",
       "      <th></th>\n",
       "      <th>latitude</th>\n",
       "      <th>longitude</th>\n",
       "      <th>geometry</th>\n",
       "      <th>address_original</th>\n",
       "      <th>address</th>\n",
       "    </tr>\n",
       "  </thead>\n",
       "  <tbody>\n",
       "    <tr>\n",
       "      <th>0</th>\n",
       "      <td>48.858260</td>\n",
       "      <td>2.294501</td>\n",
       "      <td>POINT (2.29450 48.85826)</td>\n",
       "      <td>Champ de Mars, 5 Avenue Anatole France, 75007 ...</td>\n",
       "      <td>Tour Eiffel, 5, Avenue Anatole France, 75007, ...</td>\n",
       "    </tr>\n",
       "    <tr>\n",
       "      <th>1</th>\n",
       "      <td>48.860809</td>\n",
       "      <td>2.341132</td>\n",
       "      <td>POINT (2.34113 48.86081)</td>\n",
       "      <td>Rue de Rivoli, 75001 Paris, France</td>\n",
       "      <td>Louvre - Rivoli, Rue de Rivoli, 75001, Rue de ...</td>\n",
       "    </tr>\n",
       "    <tr>\n",
       "      <th>2</th>\n",
       "      <td>48.852937</td>\n",
       "      <td>2.350050</td>\n",
       "      <td>POINT (2.35005 48.85294)</td>\n",
       "      <td>6 Parvis Notre-Dame - Pl. Jean-Paul II, 75004 ...</td>\n",
       "      <td>Cathédrale Notre-Dame de Paris, 6, Parvis Notr...</td>\n",
       "    </tr>\n",
       "  </tbody>\n",
       "</table>\n",
       "</div>"
      ],
      "text/plain": [
       "    latitude  longitude                  geometry  \\\n",
       "0  48.858260   2.294501  POINT (2.29450 48.85826)   \n",
       "1  48.860809   2.341132  POINT (2.34113 48.86081)   \n",
       "2  48.852937   2.350050  POINT (2.35005 48.85294)   \n",
       "\n",
       "                                    address_original  \\\n",
       "0  Champ de Mars, 5 Avenue Anatole France, 75007 ...   \n",
       "1                 Rue de Rivoli, 75001 Paris, France   \n",
       "2  6 Parvis Notre-Dame - Pl. Jean-Paul II, 75004 ...   \n",
       "\n",
       "                                             address  \n",
       "0  Tour Eiffel, 5, Avenue Anatole France, 75007, ...  \n",
       "1  Louvre - Rivoli, Rue de Rivoli, 75001, Rue de ...  \n",
       "2  Cathédrale Notre-Dame de Paris, 6, Parvis Notr...  "
      ]
     },
     "execution_count": 6,
     "metadata": {},
     "output_type": "execute_result"
    }
   ],
   "source": [
    "df['address'] = gpd.tools.reverse_geocode(gdf.geometry)['address']\n",
    "df"
   ]
  }
 ],
 "metadata": {
  "kernelspec": {
   "display_name": "general_env",
   "language": "python",
   "name": "python3"
  },
  "language_info": {
   "codemirror_mode": {
    "name": "ipython",
    "version": 3
   },
   "file_extension": ".py",
   "mimetype": "text/x-python",
   "name": "python",
   "nbconvert_exporter": "python",
   "pygments_lexer": "ipython3",
   "version": "3.12.3"
  }
 },
 "nbformat": 4,
 "nbformat_minor": 2
}
